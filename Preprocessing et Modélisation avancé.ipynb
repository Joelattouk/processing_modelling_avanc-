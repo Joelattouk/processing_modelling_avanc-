{
 "cells": [
  {
   "cell_type": "markdown",
   "metadata": {},
   "source": [
    "# Preprocessing et Modelisation\n",
    "\n",
    "# Analyse Exploratoire des Données\n",
    "\n",
    "\n",
    "### Problème: Prédire si un individu est atteint de Cancer ou Non\n",
    "\n",
    "### Mission : \n",
    "- Preprocessing\n",
    "- Modélisation\n",
    "\n",
    "### Meta données\n",
    "\n",
    "**- Contexte**\n",
    "\n",
    "Les maladies cardiovasculaires sont la première cause de décès dans le monde, faisant environ 17,9 millions de vies chaque année, ce qui représente 31 % de tous les décès dans le monde. Quatre décès sur 5 par MCV sont dus à des crises cardiaques et à des accidents vasculaires cérébraux, et un tiers de ces décès surviennent prématurément chez des personnes de moins de 70 ans. L'insuffisance cardiaque est un événement courant causé par les maladies cardiovasculaires et cet ensemble de données contient 11 caractéristiques qui peuvent être utilisées pour prédire une éventuelle maladie cardiaque.\n",
    "\n",
    "Les personnes atteintes de maladies cardiovasculaires ou à haut risque cardiovasculaire (en raison de la présence d'un ou plusieurs facteurs de risque tels que l'hypertension, le diabète, l'hyperlipidémie ou une maladie déjà établie) ont besoin d'une détection et d'une gestion précoces dans lesquelles un modèle d'apprentissage automatique peut être d'une grande aide.\n",
    "\n",
    "\n",
    "**- Informations sur les attributs**\n",
    "\n",
    "AGE : âge du patient,\n",
    "\n",
    "SEXE : sexe du patient [homme, femme]\n",
    "\n",
    "TDT : type de douleur thoracique [AT : angine typique, AA : angine atypique, DNA : douleur non angineuse, ASY : asymptomatique]\n",
    "\n",
    "PAR : pression artérielle au repos [mm Hg]\n",
    "\n",
    "CHOLESTEROL : cholestérol sérique [mm/dl]\n",
    "\n",
    "GAJ : glycémie Ã  jeun [1 : si glycémie Ã  jeun > 120 mg/dl, 0 : sinon]\n",
    "\n",
    "ECG au repos : résultats de l'electrocardiogramme au repos [Normal : normal, ST : présentant une anomalie de l'onde ST-T , HVG : montrant une hypertrophie ventriculaire gauche probable]\n",
    "\n",
    "FCMAX : fréquence cardiaque maximale atteinte\n",
    "\n",
    "ANGINE : angine induite par l'exercice [Oui, Non]\n",
    "\n",
    "DEPRESSION : Valeur numérique mesurée en dépression\n",
    "\n",
    "PENTE: la pente du segment ST d'exercice de pointe [Ascendant, Plat, Descendant]\n",
    "\n",
    "COEUR : maladie cardiaque[1 : Présence de la maladie, 0 : Absence de la maladie]"
   ]
  },
  {
   "cell_type": "markdown",
   "metadata": {},
   "source": [
    "### Conclusion EDA\n",
    "\n",
    "\n",
    "- ligne: 918, colonne: 12 (échantillon faible, **il faudra éviter certains algorithmes comme la random forest, les réseaux de neurones...) \n",
    "\n",
    "- Type de variable: 7 qualitatives **(y compris la cible : variable coeur)** , 5 quantitatives\n",
    "\n",
    "    - Les variable **coeur** (la target) et **glycemie_a_jeune** semblent déjà encodées\n",
    "    \n",
    "- Les modalités vont de 2 (sexe, glycemie_a_jeun, angine, **coeur (la target)** à 222 (cholesterol)\n",
    "    - Les variables qualitatives sont pour la plupart binaire\n",
    "    \n",
    "### La cible: coeur\n",
    "\n",
    "- Binaire (0:abscence, 1:présence)\n",
    "- plus de la moitié des individus sont malade (55%);\n",
    "- Les différentes catégories semblent être équilibrées. **L'exactitude pourrait être une bonne métrique**\n",
    "\n",
    "### Variables qualitatives\n",
    "\n",
    "- La majorité des individus sont des hommes environ **80%** (Sexe);\n",
    "- Le type de douleur dominant est celui de l'angine asymétrique soit 54%\n",
    "- La glycémie à jeûne la plus fréquente est celle qui est **inférieur à 120 mg/ml**. elle represente 77% de l'effectif total,\n",
    "- la plupart des individus ont un electrocardiogramme **normal** soit 60%,\n",
    "- La majorité des individus n'ont pas d'angine (60%)\n",
    "- La pente la plus repandue est **Plate**. elle fait 50%.\n",
    "\n",
    "### Variables quantitatives\n",
    "\n",
    "- **Age**\n",
    "    - Nous somme en présence d'une population agée. Âge compris entre 50 et 65 ans\n",
    "    - Le plus jeune à 28 ans tandis que le plus âgé à 77 ans\n",
    "    - L'âge moyen est de 54 ans\n",
    "    - L'écart entre la moyenne d'âge et l'âge de la plupart des individus est faible (écart-type);\n",
    "    - La distribution semble être normale (moyenne=medianne), 50% des individus ont une moyenne d'âge de 54 ans\n",
    "- **Frequence cardiaque Maximale** [https://sante.lefigaro.fr/mieux-etre/sports-activites-physiques/frequence-cardiaque/quest-ce-que-frequence-cardiaque]\n",
    "    - Le rythme cardiaque le plus bas est de 60 battements/minute et le plus élevé est 202 battements/minutes;\n",
    "    - la majorité des personnes ont un rythme cardiaque de 137 battements/minutes;\n",
    "    - La distribution semble être normale (moyenne=medianne), 50% des individus ont une fréquence cardiaque de 137 battements/minutes\n",
    "\n",
    "- **pression arterielle repos**\n",
    "    - La pression arterielle au repos le plus bas est de 0 unité de mesure et le plus élevé est 200 unité de mesure;\n",
    "    - la majorité des personnes ont une pression arterielle au repos de 132,39;\n",
    "    - La distribution semble être normale (moyenne=medianne), 50% des individus ont une fréquence cardiaque d'environ 132,39 battements/minutes\n",
    "    \n",
    "**- La dépression et le cholesterol ne sont pas normalement distribués**\n",
    "    \n",
    "    - Dépression\n",
    "        - Distribution étalée à gauche, 50% des individus ont une dépression inférieur à 0.9 (Moyenne > mediane)\n",
    "        - \n",
    "    - Cholesterol\n",
    "        - Distribution étalée à droite, 50% des individus ont une taux de cholesterol supérieur à 199 (Moyenne < mediane)\n",
    "\n",
    "**Il faudra confirmer/infirmer ces hypothèse de normalité avec des test de normalité (Jarque bera/shapiro wilk)**\n",
    "\n",
    "**NB: Les variables normalement distribuées peuvent avoir un impacte significatif sur la présence de maladie ou non** \n",
    "\n",
    "### Analyse bivariée\n",
    "\n",
    "#### Coeur (Target) / variable qualitative\n",
    "\n",
    "- Les personnes âgées présentent une maladie cardiaque. Ils ont 55 et +\n",
    "- y'a plus de malade homme que de femme. toutefois, N'oublions pas que la population est dominée par les hommes\n",
    "- Les personnes avec une angine asymétrique sont beaucoup plus malade\n",
    "- La plupart des personnes malades ont une glycémie à jeune supérieur à 120 mg\n",
    "- Les personnes malades présentent une anomalie d'onde ST plus élevée que les personnes non malades\n",
    "- La majorité des personnes malades ont une angine;\n",
    "- Les malades présentent une pente plate\n",
    "\n",
    "**NB: Pour être plus rigoureux il faut tester ces hypothèses avec un test de khi2** \n",
    "\n",
    "#### Coeur (Target) / Variable quantitative\n",
    "\n",
    "- il semble avoir un lien entre l'âge et le fait qu'une personne soit malade puis entre la fréquence cardiaque et la présence de maladie\n",
    "- la plupart des autres variables semblent de pas influencer le fait qu'une personne soit malade ou pas.\n",
    "\n",
    "**La question est de savoir si une combinaison de plusieurs variables peuvent influencer le fait qu'une personne soit malade ou pas**\n",
    "\n",
    "**NB: Pour être plus rigoureux il faut tester ces hypothèses avec une analyse de la variance**\n",
    "\n",
    "### Variable quantitative/quantitative\n",
    "\n",
    "- Pas de relation positive entre les variables quantitatives\n",
    "- forte correlation négative entre les\n",
    "\n",
    "**NB: En analysant les relations Variable quantitative/quantitative en fonction de la présence ou non de la maladie (pairplot avec paramètre hue), On constate que les variables quantitatves ne permettent pas clairemenr de distinguer la présence de maladie ou non**\n",
    "\n",
    "**- Il existe non seulement des valeurs abérrantes qu'il faudra traiter lors du Preprocessing et de plus il faut penser à normaliser les variables qui semblent ne pas être sur la même échelle.**"
   ]
  },
  {
   "cell_type": "code",
   "execution_count": 100,
   "metadata": {},
   "outputs": [],
   "source": [
    "import pandas as pd\n",
    "import numpy as np\n",
    "import matplotlib.pyplot as plt\n",
    "import seaborn as sns\n",
    "import warnings\n",
    "from prettytable import PrettyTable\n",
    "\n",
    "from sklearn.model_selection import train_test_split\n",
    "from sklearn.model_selection import learning_curve\n",
    "from sklearn.linear_model import LogisticRegression, SGDClassifier\n",
    "from sklearn.metrics import f1_score, precision_score, accuracy_score, recall_score\n",
    "\n",
    "warnings.filterwarnings('ignore')"
   ]
  },
  {
   "cell_type": "code",
   "execution_count": 2,
   "metadata": {},
   "outputs": [],
   "source": [
    "DF = pd.read_excel('heart.xlsx')"
   ]
  },
  {
   "cell_type": "code",
   "execution_count": 3,
   "metadata": {},
   "outputs": [],
   "source": [
    "df = DF.copy()"
   ]
  },
  {
   "cell_type": "code",
   "execution_count": 4,
   "metadata": {},
   "outputs": [],
   "source": [
    "df.rename(columns={'TDT':'type_douleur_thoracique',\n",
    "                   'PAR': 'pression_arterielle_repos',\n",
    "                   'GAJ':'glycemie_a_jeun',\n",
    "                   'ECG':'electrocardiogramme_repos',\n",
    "                  'FCMAX':'frequence_cardiaque_max',\n",
    "                  'CŒUR':'coeur'}, inplace=True)"
   ]
  },
  {
   "cell_type": "code",
   "execution_count": 5,
   "metadata": {},
   "outputs": [],
   "source": [
    "col = []\n",
    "for i in range(0, len(df.columns)):\n",
    "    col.append(df.columns[i].lower())"
   ]
  },
  {
   "cell_type": "code",
   "execution_count": 6,
   "metadata": {},
   "outputs": [],
   "source": [
    "df.columns = col"
   ]
  },
  {
   "cell_type": "code",
   "execution_count": 7,
   "metadata": {},
   "outputs": [
    {
     "data": {
      "text/html": [
       "<div>\n",
       "<style scoped>\n",
       "    .dataframe tbody tr th:only-of-type {\n",
       "        vertical-align: middle;\n",
       "    }\n",
       "\n",
       "    .dataframe tbody tr th {\n",
       "        vertical-align: top;\n",
       "    }\n",
       "\n",
       "    .dataframe thead th {\n",
       "        text-align: right;\n",
       "    }\n",
       "</style>\n",
       "<table border=\"1\" class=\"dataframe\">\n",
       "  <thead>\n",
       "    <tr style=\"text-align: right;\">\n",
       "      <th></th>\n",
       "      <th>age</th>\n",
       "      <th>sexe</th>\n",
       "      <th>type_douleur_thoracique</th>\n",
       "      <th>pression_arterielle_repos</th>\n",
       "      <th>cholesterol</th>\n",
       "      <th>glycemie_a_jeun</th>\n",
       "      <th>electrocardiogramme_repos</th>\n",
       "      <th>frequence_cardiaque_max</th>\n",
       "      <th>angine</th>\n",
       "      <th>depression</th>\n",
       "      <th>pente</th>\n",
       "      <th>coeur</th>\n",
       "    </tr>\n",
       "  </thead>\n",
       "  <tbody>\n",
       "    <tr>\n",
       "      <th>0</th>\n",
       "      <td>40</td>\n",
       "      <td>homme</td>\n",
       "      <td>AA</td>\n",
       "      <td>140</td>\n",
       "      <td>289</td>\n",
       "      <td>0</td>\n",
       "      <td>Normal</td>\n",
       "      <td>172</td>\n",
       "      <td>Non</td>\n",
       "      <td>0.0</td>\n",
       "      <td>Ascendant</td>\n",
       "      <td>0</td>\n",
       "    </tr>\n",
       "    <tr>\n",
       "      <th>1</th>\n",
       "      <td>49</td>\n",
       "      <td>femme</td>\n",
       "      <td>DNA</td>\n",
       "      <td>160</td>\n",
       "      <td>180</td>\n",
       "      <td>0</td>\n",
       "      <td>Normal</td>\n",
       "      <td>156</td>\n",
       "      <td>Non</td>\n",
       "      <td>1.0</td>\n",
       "      <td>Plat</td>\n",
       "      <td>1</td>\n",
       "    </tr>\n",
       "    <tr>\n",
       "      <th>2</th>\n",
       "      <td>37</td>\n",
       "      <td>homme</td>\n",
       "      <td>AA</td>\n",
       "      <td>130</td>\n",
       "      <td>283</td>\n",
       "      <td>0</td>\n",
       "      <td>ST</td>\n",
       "      <td>98</td>\n",
       "      <td>Non</td>\n",
       "      <td>0.0</td>\n",
       "      <td>Ascendant</td>\n",
       "      <td>0</td>\n",
       "    </tr>\n",
       "    <tr>\n",
       "      <th>3</th>\n",
       "      <td>48</td>\n",
       "      <td>femme</td>\n",
       "      <td>ASY</td>\n",
       "      <td>138</td>\n",
       "      <td>214</td>\n",
       "      <td>0</td>\n",
       "      <td>Normal</td>\n",
       "      <td>108</td>\n",
       "      <td>Oui</td>\n",
       "      <td>1.5</td>\n",
       "      <td>Plat</td>\n",
       "      <td>1</td>\n",
       "    </tr>\n",
       "    <tr>\n",
       "      <th>4</th>\n",
       "      <td>54</td>\n",
       "      <td>homme</td>\n",
       "      <td>DNA</td>\n",
       "      <td>150</td>\n",
       "      <td>195</td>\n",
       "      <td>0</td>\n",
       "      <td>Normal</td>\n",
       "      <td>122</td>\n",
       "      <td>Non</td>\n",
       "      <td>0.0</td>\n",
       "      <td>Ascendant</td>\n",
       "      <td>0</td>\n",
       "    </tr>\n",
       "  </tbody>\n",
       "</table>\n",
       "</div>"
      ],
      "text/plain": [
       "   age   sexe type_douleur_thoracique  pression_arterielle_repos  cholesterol  \\\n",
       "0   40  homme                      AA                        140          289   \n",
       "1   49  femme                     DNA                        160          180   \n",
       "2   37  homme                      AA                        130          283   \n",
       "3   48  femme                     ASY                        138          214   \n",
       "4   54  homme                     DNA                        150          195   \n",
       "\n",
       "   glycemie_a_jeun electrocardiogramme_repos  frequence_cardiaque_max angine  \\\n",
       "0                0                    Normal                      172    Non   \n",
       "1                0                    Normal                      156    Non   \n",
       "2                0                        ST                       98    Non   \n",
       "3                0                    Normal                      108    Oui   \n",
       "4                0                    Normal                      122    Non   \n",
       "\n",
       "   depression       pente  coeur  \n",
       "0          0.0  Ascendant      0  \n",
       "1          1.0       Plat      1  \n",
       "2          0.0  Ascendant      0  \n",
       "3          1.5       Plat      1  \n",
       "4          0.0  Ascendant      0  "
      ]
     },
     "execution_count": 7,
     "metadata": {},
     "output_type": "execute_result"
    }
   ],
   "source": [
    "df.head()"
   ]
  },
  {
   "cell_type": "code",
   "execution_count": 8,
   "metadata": {},
   "outputs": [],
   "source": [
    "df.columns = df.columns.str.strip()"
   ]
  },
  {
   "cell_type": "code",
   "execution_count": 9,
   "metadata": {},
   "outputs": [
    {
     "data": {
      "text/plain": [
       "Index(['age', 'sexe', 'type_douleur_thoracique', 'pression_arterielle_repos',\n",
       "       'cholesterol', 'glycemie_a_jeun', 'electrocardiogramme_repos',\n",
       "       'frequence_cardiaque_max', 'angine', 'depression', 'pente', 'coeur'],\n",
       "      dtype='object')"
      ]
     },
     "execution_count": 9,
     "metadata": {},
     "output_type": "execute_result"
    }
   ],
   "source": [
    "df.columns"
   ]
  },
  {
   "cell_type": "markdown",
   "metadata": {},
   "source": [
    "###  Train et Test set"
   ]
  },
  {
   "cell_type": "code",
   "execution_count": 10,
   "metadata": {},
   "outputs": [],
   "source": [
    "trainset, testset = train_test_split(df, train_size=0.7, random_state=0)"
   ]
  },
  {
   "cell_type": "code",
   "execution_count": 11,
   "metadata": {},
   "outputs": [
    {
     "data": {
      "text/plain": [
       "(642, 12)"
      ]
     },
     "execution_count": 11,
     "metadata": {},
     "output_type": "execute_result"
    }
   ],
   "source": [
    "trainset.shape"
   ]
  },
  {
   "cell_type": "code",
   "execution_count": 12,
   "metadata": {},
   "outputs": [
    {
     "data": {
      "text/plain": [
       "(276, 12)"
      ]
     },
     "execution_count": 12,
     "metadata": {},
     "output_type": "execute_result"
    }
   ],
   "source": [
    "testset.shape"
   ]
  },
  {
   "cell_type": "code",
   "execution_count": 13,
   "metadata": {},
   "outputs": [],
   "source": [
    "X_train, y_train = trainset.drop('coeur', axis=1), trainset['coeur']"
   ]
  },
  {
   "cell_type": "code",
   "execution_count": 14,
   "metadata": {},
   "outputs": [],
   "source": [
    "X_test, y_test = testset.drop('coeur', axis=1), testset['coeur']"
   ]
  },
  {
   "cell_type": "markdown",
   "metadata": {},
   "source": [
    "## Première approche:\n",
    "\n",
    "- Encodage"
   ]
  },
  {
   "cell_type": "code",
   "execution_count": 21,
   "metadata": {},
   "outputs": [
    {
     "data": {
      "text/plain": [
       "age                          0\n",
       "sexe                         0\n",
       "type_douleur_thoracique      0\n",
       "pression_arterielle_repos    0\n",
       "cholesterol                  0\n",
       "glycemie_a_jeun              0\n",
       "electrocardiogramme_repos    0\n",
       "frequence_cardiaque_max      0\n",
       "angine                       0\n",
       "depression                   0\n",
       "pente                        0\n",
       "coeur                        0\n",
       "dtype: int64"
      ]
     },
     "execution_count": 21,
     "metadata": {},
     "output_type": "execute_result"
    }
   ],
   "source": [
    "df.isna().sum()"
   ]
  },
  {
   "cell_type": "code",
   "execution_count": 24,
   "metadata": {},
   "outputs": [
    {
     "data": {
      "text/plain": [
       "(642, 11)"
      ]
     },
     "execution_count": 24,
     "metadata": {},
     "output_type": "execute_result"
    }
   ],
   "source": [
    "X_train.shape"
   ]
  },
  {
   "cell_type": "code",
   "execution_count": 25,
   "metadata": {},
   "outputs": [
    {
     "data": {
      "text/plain": [
       "(642,)"
      ]
     },
     "execution_count": 25,
     "metadata": {},
     "output_type": "execute_result"
    }
   ],
   "source": [
    "y_train.shape"
   ]
  },
  {
   "cell_type": "code",
   "execution_count": 31,
   "metadata": {},
   "outputs": [
    {
     "data": {
      "text/plain": [
       "(276, 11)"
      ]
     },
     "execution_count": 31,
     "metadata": {},
     "output_type": "execute_result"
    }
   ],
   "source": [
    "X_test.shape"
   ]
  },
  {
   "cell_type": "code",
   "execution_count": 32,
   "metadata": {},
   "outputs": [
    {
     "data": {
      "text/plain": [
       "(276,)"
      ]
     },
     "execution_count": 32,
     "metadata": {},
     "output_type": "execute_result"
    }
   ],
   "source": [
    "y_test.shape"
   ]
  },
  {
   "cell_type": "code",
   "execution_count": 27,
   "metadata": {},
   "outputs": [
    {
     "data": {
      "text/plain": [
       "array([1, 0], dtype=int64)"
      ]
     },
     "execution_count": 27,
     "metadata": {},
     "output_type": "execute_result"
    }
   ],
   "source": [
    "y_train.unique()"
   ]
  },
  {
   "cell_type": "code",
   "execution_count": 34,
   "metadata": {},
   "outputs": [],
   "source": [
    "X_train = pd.get_dummies(X_train)"
   ]
  },
  {
   "cell_type": "code",
   "execution_count": 35,
   "metadata": {},
   "outputs": [
    {
     "data": {
      "text/plain": [
       "array([[ 32., 118., 529., ...,   0.,   0.,   1.],\n",
       "       [ 36., 112., 340., ...,   0.,   0.,   1.],\n",
       "       [ 51.,  95.,   0., ...,   0.,   0.,   1.],\n",
       "       ...,\n",
       "       [ 57., 128., 303., ...,   1.,   0.,   0.],\n",
       "       [ 64., 134., 273., ...,   0.,   1.,   0.],\n",
       "       [ 47., 108., 243., ...,   1.,   0.,   0.]])"
      ]
     },
     "execution_count": 35,
     "metadata": {},
     "output_type": "execute_result"
    }
   ],
   "source": [
    "X_train.values"
   ]
  },
  {
   "cell_type": "markdown",
   "metadata": {},
   "source": [
    "#### Modelling"
   ]
  },
  {
   "cell_type": "code",
   "execution_count": 43,
   "metadata": {},
   "outputs": [],
   "source": [
    "from sklearn.svm import SVC\n",
    "from sklearn.metrics import classification_report"
   ]
  },
  {
   "cell_type": "code",
   "execution_count": 38,
   "metadata": {},
   "outputs": [],
   "source": [
    "svm = SVC(random_state=0)"
   ]
  },
  {
   "cell_type": "code",
   "execution_count": 39,
   "metadata": {},
   "outputs": [
    {
     "data": {
      "text/plain": [
       "SVC(random_state=0)"
      ]
     },
     "execution_count": 39,
     "metadata": {},
     "output_type": "execute_result"
    }
   ],
   "source": [
    "svm.fit(X_train, y_train)"
   ]
  },
  {
   "cell_type": "code",
   "execution_count": 41,
   "metadata": {},
   "outputs": [
    {
     "data": {
      "text/plain": [
       "0.7180685358255452"
      ]
     },
     "execution_count": 41,
     "metadata": {},
     "output_type": "execute_result"
    }
   ],
   "source": [
    "svm.score(X_train, y_train)"
   ]
  },
  {
   "cell_type": "code",
   "execution_count": 43,
   "metadata": {},
   "outputs": [],
   "source": [
    "X_test = pd.get_dummies(X_test)"
   ]
  },
  {
   "cell_type": "code",
   "execution_count": 45,
   "metadata": {},
   "outputs": [],
   "source": [
    "y_pred = svm.predict(X_test)"
   ]
  },
  {
   "cell_type": "code",
   "execution_count": 46,
   "metadata": {},
   "outputs": [
    {
     "data": {
      "text/plain": [
       "0.7137681159420289"
      ]
     },
     "execution_count": 46,
     "metadata": {},
     "output_type": "execute_result"
    }
   ],
   "source": [
    "svm.score(X_test, y_test)"
   ]
  },
  {
   "cell_type": "code",
   "execution_count": 49,
   "metadata": {},
   "outputs": [
    {
     "name": "stdout",
     "output_type": "stream",
     "text": [
      "              precision    recall  f1-score   support\n",
      "\n",
      "           0       0.63      0.71      0.67       113\n",
      "           1       0.78      0.72      0.75       163\n",
      "\n",
      "    accuracy                           0.71       276\n",
      "   macro avg       0.71      0.71      0.71       276\n",
      "weighted avg       0.72      0.71      0.72       276\n",
      "\n"
     ]
    }
   ],
   "source": [
    "print(classification_report(y_test, y_pred))"
   ]
  },
  {
   "cell_type": "markdown",
   "metadata": {},
   "source": [
    "- Le taux de prédiction correcte est de 71% (exactitude)\n",
    "- On peut voir que la proportion de prediction positive est de 78%"
   ]
  },
  {
   "cell_type": "markdown",
   "metadata": {},
   "source": [
    "###  Deuxième approche\n",
    "\n",
    "- Encodage\n",
    "- Normalisation"
   ]
  },
  {
   "cell_type": "code",
   "execution_count": 35,
   "metadata": {},
   "outputs": [],
   "source": [
    "from sklearn.preprocessing import StandardScaler"
   ]
  },
  {
   "cell_type": "code",
   "execution_count": 36,
   "metadata": {},
   "outputs": [],
   "source": [
    "Stand = StandardScaler()"
   ]
  },
  {
   "cell_type": "code",
   "execution_count": 38,
   "metadata": {},
   "outputs": [
    {
     "data": {
      "text/plain": [
       "['age',\n",
       " 'pression_arterielle_repos',\n",
       " 'cholesterol',\n",
       " 'frequence_cardiaque_max',\n",
       " 'depression']"
      ]
     },
     "execution_count": 38,
     "metadata": {},
     "output_type": "execute_result"
    }
   ],
   "source": [
    "col_quant = [col for col in X_train.select_dtypes(exclude=object) if X_train[col].nunique() >=10]\n",
    "col_quant"
   ]
  },
  {
   "cell_type": "code",
   "execution_count": 44,
   "metadata": {},
   "outputs": [],
   "source": [
    "X_train[col_quant] = Stand.fit_transform(X_train[col_quant])"
   ]
  },
  {
   "cell_type": "code",
   "execution_count": 76,
   "metadata": {},
   "outputs": [],
   "source": [
    "X_test[col_quant] = Stand.transform(X_test[col_quant])"
   ]
  },
  {
   "cell_type": "code",
   "execution_count": 55,
   "metadata": {},
   "outputs": [
    {
     "data": {
      "text/plain": [
       "Index(['age', 'pression_arterielle_repos', 'cholesterol', 'glycemie_a_jeun',\n",
       "       'frequence_cardiaque_max', 'depression'],\n",
       "      dtype='object')"
      ]
     },
     "execution_count": 55,
     "metadata": {},
     "output_type": "execute_result"
    }
   ],
   "source": [
    "X_train.select_dtypes(exclude=object).columns"
   ]
  },
  {
   "cell_type": "code",
   "execution_count": 58,
   "metadata": {},
   "outputs": [],
   "source": [
    "x_train = pd.concat([X_train[col_quant], X_train[[col for col in X_train if X_train[col].nunique() <= 10]]], axis=1)"
   ]
  },
  {
   "cell_type": "code",
   "execution_count": 60,
   "metadata": {},
   "outputs": [],
   "source": [
    "X_train = pd.get_dummies(x_train)"
   ]
  },
  {
   "cell_type": "code",
   "execution_count": 81,
   "metadata": {},
   "outputs": [],
   "source": [
    "x_test = pd.concat([X_test[col_quant], X_test[[col for col in X_test if X_test[col].nunique() <= 10]]], axis=1)"
   ]
  },
  {
   "cell_type": "code",
   "execution_count": 83,
   "metadata": {},
   "outputs": [],
   "source": [
    "X_test = pd.get_dummies(x_test)"
   ]
  },
  {
   "cell_type": "markdown",
   "metadata": {},
   "source": [
    "#### Modélisation"
   ]
  },
  {
   "cell_type": "code",
   "execution_count": 44,
   "metadata": {},
   "outputs": [],
   "source": [
    "svm = SVC(random_state=0)"
   ]
  },
  {
   "cell_type": "code",
   "execution_count": 66,
   "metadata": {},
   "outputs": [
    {
     "data": {
      "text/plain": [
       "SVC(random_state=0)"
      ]
     },
     "execution_count": 66,
     "metadata": {},
     "output_type": "execute_result"
    }
   ],
   "source": [
    "svm.fit(X_train, y_train)"
   ]
  },
  {
   "cell_type": "code",
   "execution_count": 67,
   "metadata": {},
   "outputs": [
    {
     "data": {
      "text/plain": [
       "0.9143302180685359"
      ]
     },
     "execution_count": 67,
     "metadata": {},
     "output_type": "execute_result"
    }
   ],
   "source": [
    "svm.score(X_train, y_train)"
   ]
  },
  {
   "cell_type": "code",
   "execution_count": 84,
   "metadata": {},
   "outputs": [],
   "source": [
    "y_pred = svm.predict(X_test)"
   ]
  },
  {
   "cell_type": "code",
   "execution_count": 85,
   "metadata": {},
   "outputs": [
    {
     "data": {
      "text/plain": [
       "0.8695652173913043"
      ]
     },
     "execution_count": 85,
     "metadata": {},
     "output_type": "execute_result"
    }
   ],
   "source": [
    "svm.score(X_test, y_test)"
   ]
  },
  {
   "cell_type": "code",
   "execution_count": 86,
   "metadata": {},
   "outputs": [
    {
     "name": "stdout",
     "output_type": "stream",
     "text": [
      "              precision    recall  f1-score   support\n",
      "\n",
      "           0       0.87      0.81      0.83       113\n",
      "           1       0.87      0.91      0.89       163\n",
      "\n",
      "    accuracy                           0.87       276\n",
      "   macro avg       0.87      0.86      0.86       276\n",
      "weighted avg       0.87      0.87      0.87       276\n",
      "\n"
     ]
    }
   ],
   "source": [
    "print(classification_report(y_test, y_pred))"
   ]
  },
  {
   "cell_type": "code",
   "execution_count": 92,
   "metadata": {},
   "outputs": [
    {
     "data": {
      "image/png": "[encoded data removed]",
      "text/plain": [
       "<Figure size 864x576 with 1 Axes>"
      ]
     },
     "metadata": {
      "needs_background": "light"
     },
     "output_type": "display_data"
    }
   ],
   "source": [
    "N, train_score, val_score = learning_curve(svm, X_train, y_train,cv=4, scoring='accuracy', train_sizes=np.linspace(0.1, 1., 10))\n",
    "\n",
    "plt.figure(figsize=(12, 8))\n",
    "plt.plot(N, train_score.mean(axis=1), label = 'Train score')\n",
    "plt.plot(N, val_score.mean(axis=1), label = 'Validation score')\n",
    "plt.legend();"
   ]
  },
  {
   "cell_type": "markdown",
   "metadata": {},
   "source": [
    "- Rien qu'en normalisant, on peut constater que le modèle a augmenté en performance rien\n",
    "    - Le taux de prédiction correct est passé de 71% (1er approche) à 87 % (2e approche);\n",
    "    - Il y a non seulement surapprentissage et la quantité de donnée parait insuffisante"
   ]
  },
  {
   "cell_type": "markdown",
   "metadata": {},
   "source": [
    "### Troisième approche\n",
    "\n",
    "- Encodage;\n",
    "- Normalisation: Robust Scaler (Moins sensible aux valeurs abérrantes)\n",
    "- Traitement des valeurs abérrantes"
   ]
  },
  {
   "cell_type": "code",
   "execution_count": 87,
   "metadata": {},
   "outputs": [],
   "source": [
    "from sklearn.preprocessing import RobustScaler, StandardScaler\n",
    "from sklearn.metrics import confusion_matrix\n",
    "from sklearn.model_selection import GridSearchCV"
   ]
  },
  {
   "cell_type": "code",
   "execution_count": 33,
   "metadata": {},
   "outputs": [],
   "source": [
    "Robust = RobustScaler()"
   ]
  },
  {
   "cell_type": "code",
   "execution_count": 35,
   "metadata": {},
   "outputs": [
    {
     "data": {
      "text/html": [
       "<div>\n",
       "<style scoped>\n",
       "    .dataframe tbody tr th:only-of-type {\n",
       "        vertical-align: middle;\n",
       "    }\n",
       "\n",
       "    .dataframe tbody tr th {\n",
       "        vertical-align: top;\n",
       "    }\n",
       "\n",
       "    .dataframe thead th {\n",
       "        text-align: right;\n",
       "    }\n",
       "</style>\n",
       "<table border=\"1\" class=\"dataframe\">\n",
       "  <thead>\n",
       "    <tr style=\"text-align: right;\">\n",
       "      <th></th>\n",
       "      <th>age</th>\n",
       "      <th>sexe</th>\n",
       "      <th>type_douleur_thoracique</th>\n",
       "      <th>pression_arterielle_repos</th>\n",
       "      <th>cholesterol</th>\n",
       "      <th>glycemie_a_jeun</th>\n",
       "      <th>electrocardiogramme_repos</th>\n",
       "      <th>frequence_cardiaque_max</th>\n",
       "      <th>angine</th>\n",
       "      <th>depression</th>\n",
       "      <th>pente</th>\n",
       "    </tr>\n",
       "  </thead>\n",
       "  <tbody>\n",
       "    <tr>\n",
       "      <th>76</th>\n",
       "      <td>-1.692308</td>\n",
       "      <td>homme</td>\n",
       "      <td>ASY</td>\n",
       "      <td>-0.60</td>\n",
       "      <td>3.438202</td>\n",
       "      <td>0</td>\n",
       "      <td>Normal</td>\n",
       "      <td>-0.211921</td>\n",
       "      <td>Non</td>\n",
       "      <td>-0.400000</td>\n",
       "      <td>Plat</td>\n",
       "    </tr>\n",
       "    <tr>\n",
       "      <th>48</th>\n",
       "      <td>-1.384615</td>\n",
       "      <td>homme</td>\n",
       "      <td>DNA</td>\n",
       "      <td>-0.90</td>\n",
       "      <td>1.314607</td>\n",
       "      <td>0</td>\n",
       "      <td>Normal</td>\n",
       "      <td>1.218543</td>\n",
       "      <td>Non</td>\n",
       "      <td>0.266667</td>\n",
       "      <td>Plat</td>\n",
       "    </tr>\n",
       "    <tr>\n",
       "      <th>304</th>\n",
       "      <td>-0.230769</td>\n",
       "      <td>homme</td>\n",
       "      <td>ASY</td>\n",
       "      <td>-1.75</td>\n",
       "      <td>-2.505618</td>\n",
       "      <td>1</td>\n",
       "      <td>Normal</td>\n",
       "      <td>-0.317881</td>\n",
       "      <td>Non</td>\n",
       "      <td>1.066667</td>\n",
       "      <td>Plat</td>\n",
       "    </tr>\n",
       "    <tr>\n",
       "      <th>263</th>\n",
       "      <td>0.384615</td>\n",
       "      <td>homme</td>\n",
       "      <td>ASY</td>\n",
       "      <td>0.00</td>\n",
       "      <td>-1.089888</td>\n",
       "      <td>0</td>\n",
       "      <td>Normal</td>\n",
       "      <td>-0.344371</td>\n",
       "      <td>Non</td>\n",
       "      <td>-0.400000</td>\n",
       "      <td>Plat</td>\n",
       "    </tr>\n",
       "    <tr>\n",
       "      <th>744</th>\n",
       "      <td>0.461538</td>\n",
       "      <td>homme</td>\n",
       "      <td>ASY</td>\n",
       "      <td>-0.65</td>\n",
       "      <td>0.078652</td>\n",
       "      <td>1</td>\n",
       "      <td>Normal</td>\n",
       "      <td>0.582781</td>\n",
       "      <td>Oui</td>\n",
       "      <td>0.533333</td>\n",
       "      <td>Ascendant</td>\n",
       "    </tr>\n",
       "    <tr>\n",
       "      <th>...</th>\n",
       "      <td>...</td>\n",
       "      <td>...</td>\n",
       "      <td>...</td>\n",
       "      <td>...</td>\n",
       "      <td>...</td>\n",
       "      <td>...</td>\n",
       "      <td>...</td>\n",
       "      <td>...</td>\n",
       "      <td>...</td>\n",
       "      <td>...</td>\n",
       "      <td>...</td>\n",
       "    </tr>\n",
       "    <tr>\n",
       "      <th>835</th>\n",
       "      <td>0.000000</td>\n",
       "      <td>homme</td>\n",
       "      <td>ASY</td>\n",
       "      <td>-1.00</td>\n",
       "      <td>0.179775</td>\n",
       "      <td>0</td>\n",
       "      <td>Normal</td>\n",
       "      <td>-0.317881</td>\n",
       "      <td>Oui</td>\n",
       "      <td>1.466667</td>\n",
       "      <td>Plat</td>\n",
       "    </tr>\n",
       "    <tr>\n",
       "      <th>192</th>\n",
       "      <td>-0.461538</td>\n",
       "      <td>homme</td>\n",
       "      <td>AA</td>\n",
       "      <td>0.00</td>\n",
       "      <td>0.247191</td>\n",
       "      <td>0</td>\n",
       "      <td>Normal</td>\n",
       "      <td>0.582781</td>\n",
       "      <td>Non</td>\n",
       "      <td>-0.400000</td>\n",
       "      <td>Ascendant</td>\n",
       "    </tr>\n",
       "    <tr>\n",
       "      <th>629</th>\n",
       "      <td>0.230769</td>\n",
       "      <td>femme</td>\n",
       "      <td>ASY</td>\n",
       "      <td>-0.10</td>\n",
       "      <td>0.898876</td>\n",
       "      <td>0</td>\n",
       "      <td>LVH</td>\n",
       "      <td>0.556291</td>\n",
       "      <td>Non</td>\n",
       "      <td>-0.400000</td>\n",
       "      <td>Ascendant</td>\n",
       "    </tr>\n",
       "    <tr>\n",
       "      <th>559</th>\n",
       "      <td>0.769231</td>\n",
       "      <td>homme</td>\n",
       "      <td>ASY</td>\n",
       "      <td>0.20</td>\n",
       "      <td>0.561798</td>\n",
       "      <td>0</td>\n",
       "      <td>Normal</td>\n",
       "      <td>-0.953642</td>\n",
       "      <td>Oui</td>\n",
       "      <td>2.266667</td>\n",
       "      <td>Descendant</td>\n",
       "    </tr>\n",
       "    <tr>\n",
       "      <th>684</th>\n",
       "      <td>-0.538462</td>\n",
       "      <td>homme</td>\n",
       "      <td>DNA</td>\n",
       "      <td>-1.10</td>\n",
       "      <td>0.224719</td>\n",
       "      <td>0</td>\n",
       "      <td>Normal</td>\n",
       "      <td>0.370861</td>\n",
       "      <td>Non</td>\n",
       "      <td>-0.400000</td>\n",
       "      <td>Ascendant</td>\n",
       "    </tr>\n",
       "  </tbody>\n",
       "</table>\n",
       "<p>642 rows × 11 columns</p>\n",
       "</div>"
      ],
      "text/plain": [
       "          age   sexe type_douleur_thoracique  pression_arterielle_repos  \\\n",
       "76  -1.692308  homme                     ASY                      -0.60   \n",
       "48  -1.384615  homme                     DNA                      -0.90   \n",
       "304 -0.230769  homme                     ASY                      -1.75   \n",
       "263  0.384615  homme                     ASY                       0.00   \n",
       "744  0.461538  homme                     ASY                      -0.65   \n",
       "..        ...    ...                     ...                        ...   \n",
       "835  0.000000  homme                     ASY                      -1.00   \n",
       "192 -0.461538  homme                      AA                       0.00   \n",
       "629  0.230769  femme                     ASY                      -0.10   \n",
       "559  0.769231  homme                     ASY                       0.20   \n",
       "684 -0.538462  homme                     DNA                      -1.10   \n",
       "\n",
       "     cholesterol  glycemie_a_jeun electrocardiogramme_repos  \\\n",
       "76      3.438202                0                    Normal   \n",
       "48      1.314607                0                    Normal   \n",
       "304    -2.505618                1                    Normal   \n",
       "263    -1.089888                0                    Normal   \n",
       "744     0.078652                1                    Normal   \n",
       "..           ...              ...                       ...   \n",
       "835     0.179775                0                    Normal   \n",
       "192     0.247191                0                    Normal   \n",
       "629     0.898876                0                       LVH   \n",
       "559     0.561798                0                    Normal   \n",
       "684     0.224719                0                    Normal   \n",
       "\n",
       "     frequence_cardiaque_max angine  depression       pente  \n",
       "76                 -0.211921    Non   -0.400000        Plat  \n",
       "48                  1.218543    Non    0.266667        Plat  \n",
       "304                -0.317881    Non    1.066667        Plat  \n",
       "263                -0.344371    Non   -0.400000        Plat  \n",
       "744                 0.582781    Oui    0.533333   Ascendant  \n",
       "..                       ...    ...         ...         ...  \n",
       "835                -0.317881    Oui    1.466667        Plat  \n",
       "192                 0.582781    Non   -0.400000   Ascendant  \n",
       "629                 0.556291    Non   -0.400000   Ascendant  \n",
       "559                -0.953642    Oui    2.266667  Descendant  \n",
       "684                 0.370861    Non   -0.400000   Ascendant  \n",
       "\n",
       "[642 rows x 11 columns]"
      ]
     },
     "execution_count": 35,
     "metadata": {},
     "output_type": "execute_result"
    }
   ],
   "source": [
    "X_train[[col for col in X_train.select_dtypes(exclude=object) if col not in 'glycemie_a_jeun']] = Robust.fit_transform(X_train[[col for col in X_train.select_dtypes(exclude=object) if col not in 'glycemie_a_jeun']])\n",
    "X_train"
   ]
  },
  {
   "cell_type": "code",
   "execution_count": 37,
   "metadata": {},
   "outputs": [],
   "source": [
    "X_train_robust = pd.get_dummies(X_train)"
   ]
  },
  {
   "cell_type": "code",
   "execution_count": 88,
   "metadata": {},
   "outputs": [
    {
     "data": {
      "text/html": [
       "<div>\n",
       "<style scoped>\n",
       "    .dataframe tbody tr th:only-of-type {\n",
       "        vertical-align: middle;\n",
       "    }\n",
       "\n",
       "    .dataframe tbody tr th {\n",
       "        vertical-align: top;\n",
       "    }\n",
       "\n",
       "    .dataframe thead th {\n",
       "        text-align: right;\n",
       "    }\n",
       "</style>\n",
       "<table border=\"1\" class=\"dataframe\">\n",
       "  <thead>\n",
       "    <tr style=\"text-align: right;\">\n",
       "      <th></th>\n",
       "      <th>age</th>\n",
       "      <th>pression_arterielle_repos</th>\n",
       "      <th>cholesterol</th>\n",
       "      <th>glycemie_a_jeun</th>\n",
       "      <th>frequence_cardiaque_max</th>\n",
       "      <th>depression</th>\n",
       "      <th>sexe_femme</th>\n",
       "      <th>sexe_homme</th>\n",
       "      <th>type_douleur_thoracique_AA</th>\n",
       "      <th>type_douleur_thoracique_ASY</th>\n",
       "      <th>type_douleur_thoracique_AT</th>\n",
       "      <th>type_douleur_thoracique_DNA</th>\n",
       "      <th>electrocardiogramme_repos_LVH</th>\n",
       "      <th>electrocardiogramme_repos_Normal</th>\n",
       "      <th>electrocardiogramme_repos_ST</th>\n",
       "      <th>angine_Non</th>\n",
       "      <th>angine_Oui</th>\n",
       "      <th>pente_Ascendant</th>\n",
       "      <th>pente_Descendant</th>\n",
       "      <th>pente_Plat</th>\n",
       "    </tr>\n",
       "  </thead>\n",
       "  <tbody>\n",
       "    <tr>\n",
       "      <th>76</th>\n",
       "      <td>-1.692308</td>\n",
       "      <td>-0.60</td>\n",
       "      <td>3.438202</td>\n",
       "      <td>0</td>\n",
       "      <td>-0.211921</td>\n",
       "      <td>-0.400000</td>\n",
       "      <td>0</td>\n",
       "      <td>1</td>\n",
       "      <td>0</td>\n",
       "      <td>1</td>\n",
       "      <td>0</td>\n",
       "      <td>0</td>\n",
       "      <td>0</td>\n",
       "      <td>1</td>\n",
       "      <td>0</td>\n",
       "      <td>1</td>\n",
       "      <td>0</td>\n",
       "      <td>0</td>\n",
       "      <td>0</td>\n",
       "      <td>1</td>\n",
       "    </tr>\n",
       "    <tr>\n",
       "      <th>48</th>\n",
       "      <td>-1.384615</td>\n",
       "      <td>-0.90</td>\n",
       "      <td>1.314607</td>\n",
       "      <td>0</td>\n",
       "      <td>1.218543</td>\n",
       "      <td>0.266667</td>\n",
       "      <td>0</td>\n",
       "      <td>1</td>\n",
       "      <td>0</td>\n",
       "      <td>0</td>\n",
       "      <td>0</td>\n",
       "      <td>1</td>\n",
       "      <td>0</td>\n",
       "      <td>1</td>\n",
       "      <td>0</td>\n",
       "      <td>1</td>\n",
       "      <td>0</td>\n",
       "      <td>0</td>\n",
       "      <td>0</td>\n",
       "      <td>1</td>\n",
       "    </tr>\n",
       "    <tr>\n",
       "      <th>304</th>\n",
       "      <td>-0.230769</td>\n",
       "      <td>-1.75</td>\n",
       "      <td>-2.505618</td>\n",
       "      <td>1</td>\n",
       "      <td>-0.317881</td>\n",
       "      <td>1.066667</td>\n",
       "      <td>0</td>\n",
       "      <td>1</td>\n",
       "      <td>0</td>\n",
       "      <td>1</td>\n",
       "      <td>0</td>\n",
       "      <td>0</td>\n",
       "      <td>0</td>\n",
       "      <td>1</td>\n",
       "      <td>0</td>\n",
       "      <td>1</td>\n",
       "      <td>0</td>\n",
       "      <td>0</td>\n",
       "      <td>0</td>\n",
       "      <td>1</td>\n",
       "    </tr>\n",
       "    <tr>\n",
       "      <th>263</th>\n",
       "      <td>0.384615</td>\n",
       "      <td>0.00</td>\n",
       "      <td>-1.089888</td>\n",
       "      <td>0</td>\n",
       "      <td>-0.344371</td>\n",
       "      <td>-0.400000</td>\n",
       "      <td>0</td>\n",
       "      <td>1</td>\n",
       "      <td>0</td>\n",
       "      <td>1</td>\n",
       "      <td>0</td>\n",
       "      <td>0</td>\n",
       "      <td>0</td>\n",
       "      <td>1</td>\n",
       "      <td>0</td>\n",
       "      <td>1</td>\n",
       "      <td>0</td>\n",
       "      <td>0</td>\n",
       "      <td>0</td>\n",
       "      <td>1</td>\n",
       "    </tr>\n",
       "    <tr>\n",
       "      <th>744</th>\n",
       "      <td>0.461538</td>\n",
       "      <td>-0.65</td>\n",
       "      <td>0.078652</td>\n",
       "      <td>1</td>\n",
       "      <td>0.582781</td>\n",
       "      <td>0.533333</td>\n",
       "      <td>0</td>\n",
       "      <td>1</td>\n",
       "      <td>0</td>\n",
       "      <td>1</td>\n",
       "      <td>0</td>\n",
       "      <td>0</td>\n",
       "      <td>0</td>\n",
       "      <td>1</td>\n",
       "      <td>0</td>\n",
       "      <td>0</td>\n",
       "      <td>1</td>\n",
       "      <td>1</td>\n",
       "      <td>0</td>\n",
       "      <td>0</td>\n",
       "    </tr>\n",
       "    <tr>\n",
       "      <th>...</th>\n",
       "      <td>...</td>\n",
       "      <td>...</td>\n",
       "      <td>...</td>\n",
       "      <td>...</td>\n",
       "      <td>...</td>\n",
       "      <td>...</td>\n",
       "      <td>...</td>\n",
       "      <td>...</td>\n",
       "      <td>...</td>\n",
       "      <td>...</td>\n",
       "      <td>...</td>\n",
       "      <td>...</td>\n",
       "      <td>...</td>\n",
       "      <td>...</td>\n",
       "      <td>...</td>\n",
       "      <td>...</td>\n",
       "      <td>...</td>\n",
       "      <td>...</td>\n",
       "      <td>...</td>\n",
       "      <td>...</td>\n",
       "    </tr>\n",
       "    <tr>\n",
       "      <th>835</th>\n",
       "      <td>0.000000</td>\n",
       "      <td>-1.00</td>\n",
       "      <td>0.179775</td>\n",
       "      <td>0</td>\n",
       "      <td>-0.317881</td>\n",
       "      <td>1.466667</td>\n",
       "      <td>0</td>\n",
       "      <td>1</td>\n",
       "      <td>0</td>\n",
       "      <td>1</td>\n",
       "      <td>0</td>\n",
       "      <td>0</td>\n",
       "      <td>0</td>\n",
       "      <td>1</td>\n",
       "      <td>0</td>\n",
       "      <td>0</td>\n",
       "      <td>1</td>\n",
       "      <td>0</td>\n",
       "      <td>0</td>\n",
       "      <td>1</td>\n",
       "    </tr>\n",
       "    <tr>\n",
       "      <th>192</th>\n",
       "      <td>-0.461538</td>\n",
       "      <td>0.00</td>\n",
       "      <td>0.247191</td>\n",
       "      <td>0</td>\n",
       "      <td>0.582781</td>\n",
       "      <td>-0.400000</td>\n",
       "      <td>0</td>\n",
       "      <td>1</td>\n",
       "      <td>1</td>\n",
       "      <td>0</td>\n",
       "      <td>0</td>\n",
       "      <td>0</td>\n",
       "      <td>0</td>\n",
       "      <td>1</td>\n",
       "      <td>0</td>\n",
       "      <td>1</td>\n",
       "      <td>0</td>\n",
       "      <td>1</td>\n",
       "      <td>0</td>\n",
       "      <td>0</td>\n",
       "    </tr>\n",
       "    <tr>\n",
       "      <th>629</th>\n",
       "      <td>0.230769</td>\n",
       "      <td>-0.10</td>\n",
       "      <td>0.898876</td>\n",
       "      <td>0</td>\n",
       "      <td>0.556291</td>\n",
       "      <td>-0.400000</td>\n",
       "      <td>1</td>\n",
       "      <td>0</td>\n",
       "      <td>0</td>\n",
       "      <td>1</td>\n",
       "      <td>0</td>\n",
       "      <td>0</td>\n",
       "      <td>1</td>\n",
       "      <td>0</td>\n",
       "      <td>0</td>\n",
       "      <td>1</td>\n",
       "      <td>0</td>\n",
       "      <td>1</td>\n",
       "      <td>0</td>\n",
       "      <td>0</td>\n",
       "    </tr>\n",
       "    <tr>\n",
       "      <th>559</th>\n",
       "      <td>0.769231</td>\n",
       "      <td>0.20</td>\n",
       "      <td>0.561798</td>\n",
       "      <td>0</td>\n",
       "      <td>-0.953642</td>\n",
       "      <td>2.266667</td>\n",
       "      <td>0</td>\n",
       "      <td>1</td>\n",
       "      <td>0</td>\n",
       "      <td>1</td>\n",
       "      <td>0</td>\n",
       "      <td>0</td>\n",
       "      <td>0</td>\n",
       "      <td>1</td>\n",
       "      <td>0</td>\n",
       "      <td>0</td>\n",
       "      <td>1</td>\n",
       "      <td>0</td>\n",
       "      <td>1</td>\n",
       "      <td>0</td>\n",
       "    </tr>\n",
       "    <tr>\n",
       "      <th>684</th>\n",
       "      <td>-0.538462</td>\n",
       "      <td>-1.10</td>\n",
       "      <td>0.224719</td>\n",
       "      <td>0</td>\n",
       "      <td>0.370861</td>\n",
       "      <td>-0.400000</td>\n",
       "      <td>0</td>\n",
       "      <td>1</td>\n",
       "      <td>0</td>\n",
       "      <td>0</td>\n",
       "      <td>0</td>\n",
       "      <td>1</td>\n",
       "      <td>0</td>\n",
       "      <td>1</td>\n",
       "      <td>0</td>\n",
       "      <td>1</td>\n",
       "      <td>0</td>\n",
       "      <td>1</td>\n",
       "      <td>0</td>\n",
       "      <td>0</td>\n",
       "    </tr>\n",
       "  </tbody>\n",
       "</table>\n",
       "<p>642 rows × 20 columns</p>\n",
       "</div>"
      ],
      "text/plain": [
       "          age  pression_arterielle_repos  cholesterol  glycemie_a_jeun  \\\n",
       "76  -1.692308                      -0.60     3.438202                0   \n",
       "48  -1.384615                      -0.90     1.314607                0   \n",
       "304 -0.230769                      -1.75    -2.505618                1   \n",
       "263  0.384615                       0.00    -1.089888                0   \n",
       "744  0.461538                      -0.65     0.078652                1   \n",
       "..        ...                        ...          ...              ...   \n",
       "835  0.000000                      -1.00     0.179775                0   \n",
       "192 -0.461538                       0.00     0.247191                0   \n",
       "629  0.230769                      -0.10     0.898876                0   \n",
       "559  0.769231                       0.20     0.561798                0   \n",
       "684 -0.538462                      -1.10     0.224719                0   \n",
       "\n",
       "     frequence_cardiaque_max  depression  sexe_femme  sexe_homme  \\\n",
       "76                 -0.211921   -0.400000           0           1   \n",
       "48                  1.218543    0.266667           0           1   \n",
       "304                -0.317881    1.066667           0           1   \n",
       "263                -0.344371   -0.400000           0           1   \n",
       "744                 0.582781    0.533333           0           1   \n",
       "..                       ...         ...         ...         ...   \n",
       "835                -0.317881    1.466667           0           1   \n",
       "192                 0.582781   -0.400000           0           1   \n",
       "629                 0.556291   -0.400000           1           0   \n",
       "559                -0.953642    2.266667           0           1   \n",
       "684                 0.370861   -0.400000           0           1   \n",
       "\n",
       "     type_douleur_thoracique_AA  type_douleur_thoracique_ASY  \\\n",
       "76                            0                            1   \n",
       "48                            0                            0   \n",
       "304                           0                            1   \n",
       "263                           0                            1   \n",
       "744                           0                            1   \n",
       "..                          ...                          ...   \n",
       "835                           0                            1   \n",
       "192                           1                            0   \n",
       "629                           0                            1   \n",
       "559                           0                            1   \n",
       "684                           0                            0   \n",
       "\n",
       "     type_douleur_thoracique_AT  type_douleur_thoracique_DNA  \\\n",
       "76                            0                            0   \n",
       "48                            0                            1   \n",
       "304                           0                            0   \n",
       "263                           0                            0   \n",
       "744                           0                            0   \n",
       "..                          ...                          ...   \n",
       "835                           0                            0   \n",
       "192                           0                            0   \n",
       "629                           0                            0   \n",
       "559                           0                            0   \n",
       "684                           0                            1   \n",
       "\n",
       "     electrocardiogramme_repos_LVH  electrocardiogramme_repos_Normal  \\\n",
       "76                               0                                 1   \n",
       "48                               0                                 1   \n",
       "304                              0                                 1   \n",
       "263                              0                                 1   \n",
       "744                              0                                 1   \n",
       "..                             ...                               ...   \n",
       "835                              0                                 1   \n",
       "192                              0                                 1   \n",
       "629                              1                                 0   \n",
       "559                              0                                 1   \n",
       "684                              0                                 1   \n",
       "\n",
       "     electrocardiogramme_repos_ST  angine_Non  angine_Oui  pente_Ascendant  \\\n",
       "76                              0           1           0                0   \n",
       "48                              0           1           0                0   \n",
       "304                             0           1           0                0   \n",
       "263                             0           1           0                0   \n",
       "744                             0           0           1                1   \n",
       "..                            ...         ...         ...              ...   \n",
       "835                             0           0           1                0   \n",
       "192                             0           1           0                1   \n",
       "629                             0           1           0                1   \n",
       "559                             0           0           1                0   \n",
       "684                             0           1           0                1   \n",
       "\n",
       "     pente_Descendant  pente_Plat  \n",
       "76                  0           1  \n",
       "48                  0           1  \n",
       "304                 0           1  \n",
       "263                 0           1  \n",
       "744                 0           0  \n",
       "..                ...         ...  \n",
       "835                 0           1  \n",
       "192                 0           0  \n",
       "629                 0           0  \n",
       "559                 1           0  \n",
       "684                 0           0  \n",
       "\n",
       "[642 rows x 20 columns]"
      ]
     },
     "execution_count": 88,
     "metadata": {},
     "output_type": "execute_result"
    }
   ],
   "source": [
    "X_train_robust"
   ]
  },
  {
   "cell_type": "code",
   "execution_count": 39,
   "metadata": {},
   "outputs": [],
   "source": [
    "X_test[[col for col in X_train.select_dtypes(exclude=object) if col not in 'glycemie_a_jeun']] = Robust.transform(X_test[[col for col in X_train.select_dtypes(exclude=object) if col not in 'glycemie_a_jeun']])"
   ]
  },
  {
   "cell_type": "code",
   "execution_count": 42,
   "metadata": {},
   "outputs": [],
   "source": [
    "X_test_robust = pd.get_dummies(X_test)"
   ]
  },
  {
   "cell_type": "markdown",
   "metadata": {},
   "source": [
    "#### Modelisation"
   ]
  },
  {
   "cell_type": "code",
   "execution_count": 45,
   "metadata": {},
   "outputs": [
    {
     "data": {
      "text/plain": [
       "SVC(random_state=0)"
      ]
     },
     "execution_count": 45,
     "metadata": {},
     "output_type": "execute_result"
    }
   ],
   "source": [
    "svm.fit(X_train_robust, y_train)"
   ]
  },
  {
   "cell_type": "code",
   "execution_count": 46,
   "metadata": {},
   "outputs": [
    {
     "data": {
      "text/plain": [
       "0.9174454828660437"
      ]
     },
     "execution_count": 46,
     "metadata": {},
     "output_type": "execute_result"
    }
   ],
   "source": [
    "svm.score(X_train_robust, y_train)"
   ]
  },
  {
   "cell_type": "code",
   "execution_count": 48,
   "metadata": {},
   "outputs": [
    {
     "data": {
      "text/plain": [
       "0.8623188405797102"
      ]
     },
     "execution_count": 48,
     "metadata": {},
     "output_type": "execute_result"
    }
   ],
   "source": [
    "svm.score(X_test_robust, y_test)"
   ]
  },
  {
   "cell_type": "code",
   "execution_count": 47,
   "metadata": {},
   "outputs": [],
   "source": [
    "y_pred = svm.predict(X_test_robust)"
   ]
  },
  {
   "cell_type": "code",
   "execution_count": 49,
   "metadata": {},
   "outputs": [
    {
     "data": {
      "image/png": "[encoded data removed]",
      "text/plain": [
       "<Figure size 864x576 with 1 Axes>"
      ]
     },
     "metadata": {
      "needs_background": "light"
     },
     "output_type": "display_data"
    }
   ],
   "source": [
    "N, train_score, val_score = learning_curve(svm, X_train_robust, y_train,cv=4, scoring='accuracy', train_sizes=np.linspace(0.1, 1., 10))\n",
    "\n",
    "plt.figure(figsize=(12, 8))\n",
    "plt.plot(N, train_score.mean(axis=1), label = 'Train score')\n",
    "plt.plot(N, val_score.mean(axis=1), label = 'Validation score')\n",
    "plt.legend();"
   ]
  },
  {
   "cell_type": "code",
   "execution_count": 50,
   "metadata": {},
   "outputs": [
    {
     "name": "stdout",
     "output_type": "stream",
     "text": [
      "              precision    recall  f1-score   support\n",
      "\n",
      "           0       0.86      0.79      0.82       113\n",
      "           1       0.86      0.91      0.89       163\n",
      "\n",
      "    accuracy                           0.86       276\n",
      "   macro avg       0.86      0.85      0.86       276\n",
      "weighted avg       0.86      0.86      0.86       276\n",
      "\n"
     ]
    }
   ],
   "source": [
    "print(classification_report(y_test, y_pred))"
   ]
  },
  {
   "cell_type": "markdown",
   "metadata": {},
   "source": [
    "- Y'a pas de différence entre les performances par l'approche 2 et celle de l'approche 3 (exactitude = 86%)"
   ]
  },
  {
   "cell_type": "code",
   "execution_count": 62,
   "metadata": {},
   "outputs": [],
   "source": [
    "sgd = SGDClassifier(random_state=0)\n",
    "Log = LogisticRegression(random_state=0)"
   ]
  },
  {
   "cell_type": "code",
   "execution_count": 63,
   "metadata": {},
   "outputs": [],
   "source": [
    "models = {\"sgd\":sgd, \"svm\":svm, \"Logistic\":Log}"
   ]
  },
  {
   "cell_type": "code",
   "execution_count": 67,
   "metadata": {},
   "outputs": [],
   "source": [
    "def evaluation(model):\n",
    "    model.fit(X_train_robust, y_train)\n",
    "    y_pred = model.predict(X_test_robust)\n",
    "    \n",
    "    print(confusion_matrix(y_test, y_pred))\n",
    "    N, train_score, val_score = learning_curve(model, X_train_robust, y_train,cv=4, scoring='accuracy', train_sizes=np.linspace(0.1, 1., 10))\n",
    "\n",
    "    plt.figure(figsize=(12, 8))\n",
    "    plt.plot(N, train_score.mean(axis=1), label = 'Train score')\n",
    "    plt.plot(N, val_score.mean(axis=1), label = 'Validation score')\n",
    "    plt.legend();"
   ]
  },
  {
   "cell_type": "code",
   "execution_count": 69,
   "metadata": {},
   "outputs": [
    {
     "data": {
      "text/html": [
       "<div>\n",
       "<style scoped>\n",
       "    .dataframe tbody tr th:only-of-type {\n",
       "        vertical-align: middle;\n",
       "    }\n",
       "\n",
       "    .dataframe tbody tr th {\n",
       "        vertical-align: top;\n",
       "    }\n",
       "\n",
       "    .dataframe thead th {\n",
       "        text-align: right;\n",
       "    }\n",
       "</style>\n",
       "<table border=\"1\" class=\"dataframe\">\n",
       "  <thead>\n",
       "    <tr style=\"text-align: right;\">\n",
       "      <th></th>\n",
       "      <th>age</th>\n",
       "      <th>pression_arterielle_repos</th>\n",
       "      <th>cholesterol</th>\n",
       "      <th>glycemie_a_jeun</th>\n",
       "      <th>frequence_cardiaque_max</th>\n",
       "      <th>depression</th>\n",
       "      <th>sexe_femme</th>\n",
       "      <th>sexe_homme</th>\n",
       "      <th>type_douleur_thoracique_AA</th>\n",
       "      <th>type_douleur_thoracique_ASY</th>\n",
       "      <th>type_douleur_thoracique_AT</th>\n",
       "      <th>type_douleur_thoracique_DNA</th>\n",
       "      <th>electrocardiogramme_repos_LVH</th>\n",
       "      <th>electrocardiogramme_repos_Normal</th>\n",
       "      <th>electrocardiogramme_repos_ST</th>\n",
       "      <th>angine_Non</th>\n",
       "      <th>angine_Oui</th>\n",
       "      <th>pente_Ascendant</th>\n",
       "      <th>pente_Descendant</th>\n",
       "      <th>pente_Plat</th>\n",
       "    </tr>\n",
       "  </thead>\n",
       "  <tbody>\n",
       "    <tr>\n",
       "      <th>76</th>\n",
       "      <td>-1.692308</td>\n",
       "      <td>-0.60</td>\n",
       "      <td>3.438202</td>\n",
       "      <td>0</td>\n",
       "      <td>-0.211921</td>\n",
       "      <td>-0.400000</td>\n",
       "      <td>0</td>\n",
       "      <td>1</td>\n",
       "      <td>0</td>\n",
       "      <td>1</td>\n",
       "      <td>0</td>\n",
       "      <td>0</td>\n",
       "      <td>0</td>\n",
       "      <td>1</td>\n",
       "      <td>0</td>\n",
       "      <td>1</td>\n",
       "      <td>0</td>\n",
       "      <td>0</td>\n",
       "      <td>0</td>\n",
       "      <td>1</td>\n",
       "    </tr>\n",
       "    <tr>\n",
       "      <th>48</th>\n",
       "      <td>-1.384615</td>\n",
       "      <td>-0.90</td>\n",
       "      <td>1.314607</td>\n",
       "      <td>0</td>\n",
       "      <td>1.218543</td>\n",
       "      <td>0.266667</td>\n",
       "      <td>0</td>\n",
       "      <td>1</td>\n",
       "      <td>0</td>\n",
       "      <td>0</td>\n",
       "      <td>0</td>\n",
       "      <td>1</td>\n",
       "      <td>0</td>\n",
       "      <td>1</td>\n",
       "      <td>0</td>\n",
       "      <td>1</td>\n",
       "      <td>0</td>\n",
       "      <td>0</td>\n",
       "      <td>0</td>\n",
       "      <td>1</td>\n",
       "    </tr>\n",
       "    <tr>\n",
       "      <th>304</th>\n",
       "      <td>-0.230769</td>\n",
       "      <td>-1.75</td>\n",
       "      <td>-2.505618</td>\n",
       "      <td>1</td>\n",
       "      <td>-0.317881</td>\n",
       "      <td>1.066667</td>\n",
       "      <td>0</td>\n",
       "      <td>1</td>\n",
       "      <td>0</td>\n",
       "      <td>1</td>\n",
       "      <td>0</td>\n",
       "      <td>0</td>\n",
       "      <td>0</td>\n",
       "      <td>1</td>\n",
       "      <td>0</td>\n",
       "      <td>1</td>\n",
       "      <td>0</td>\n",
       "      <td>0</td>\n",
       "      <td>0</td>\n",
       "      <td>1</td>\n",
       "    </tr>\n",
       "    <tr>\n",
       "      <th>263</th>\n",
       "      <td>0.384615</td>\n",
       "      <td>0.00</td>\n",
       "      <td>-1.089888</td>\n",
       "      <td>0</td>\n",
       "      <td>-0.344371</td>\n",
       "      <td>-0.400000</td>\n",
       "      <td>0</td>\n",
       "      <td>1</td>\n",
       "      <td>0</td>\n",
       "      <td>1</td>\n",
       "      <td>0</td>\n",
       "      <td>0</td>\n",
       "      <td>0</td>\n",
       "      <td>1</td>\n",
       "      <td>0</td>\n",
       "      <td>1</td>\n",
       "      <td>0</td>\n",
       "      <td>0</td>\n",
       "      <td>0</td>\n",
       "      <td>1</td>\n",
       "    </tr>\n",
       "    <tr>\n",
       "      <th>744</th>\n",
       "      <td>0.461538</td>\n",
       "      <td>-0.65</td>\n",
       "      <td>0.078652</td>\n",
       "      <td>1</td>\n",
       "      <td>0.582781</td>\n",
       "      <td>0.533333</td>\n",
       "      <td>0</td>\n",
       "      <td>1</td>\n",
       "      <td>0</td>\n",
       "      <td>1</td>\n",
       "      <td>0</td>\n",
       "      <td>0</td>\n",
       "      <td>0</td>\n",
       "      <td>1</td>\n",
       "      <td>0</td>\n",
       "      <td>0</td>\n",
       "      <td>1</td>\n",
       "      <td>1</td>\n",
       "      <td>0</td>\n",
       "      <td>0</td>\n",
       "    </tr>\n",
       "    <tr>\n",
       "      <th>...</th>\n",
       "      <td>...</td>\n",
       "      <td>...</td>\n",
       "      <td>...</td>\n",
       "      <td>...</td>\n",
       "      <td>...</td>\n",
       "      <td>...</td>\n",
       "      <td>...</td>\n",
       "      <td>...</td>\n",
       "      <td>...</td>\n",
       "      <td>...</td>\n",
       "      <td>...</td>\n",
       "      <td>...</td>\n",
       "      <td>...</td>\n",
       "      <td>...</td>\n",
       "      <td>...</td>\n",
       "      <td>...</td>\n",
       "      <td>...</td>\n",
       "      <td>...</td>\n",
       "      <td>...</td>\n",
       "      <td>...</td>\n",
       "    </tr>\n",
       "    <tr>\n",
       "      <th>835</th>\n",
       "      <td>0.000000</td>\n",
       "      <td>-1.00</td>\n",
       "      <td>0.179775</td>\n",
       "      <td>0</td>\n",
       "      <td>-0.317881</td>\n",
       "      <td>1.466667</td>\n",
       "      <td>0</td>\n",
       "      <td>1</td>\n",
       "      <td>0</td>\n",
       "      <td>1</td>\n",
       "      <td>0</td>\n",
       "      <td>0</td>\n",
       "      <td>0</td>\n",
       "      <td>1</td>\n",
       "      <td>0</td>\n",
       "      <td>0</td>\n",
       "      <td>1</td>\n",
       "      <td>0</td>\n",
       "      <td>0</td>\n",
       "      <td>1</td>\n",
       "    </tr>\n",
       "    <tr>\n",
       "      <th>192</th>\n",
       "      <td>-0.461538</td>\n",
       "      <td>0.00</td>\n",
       "      <td>0.247191</td>\n",
       "      <td>0</td>\n",
       "      <td>0.582781</td>\n",
       "      <td>-0.400000</td>\n",
       "      <td>0</td>\n",
       "      <td>1</td>\n",
       "      <td>1</td>\n",
       "      <td>0</td>\n",
       "      <td>0</td>\n",
       "      <td>0</td>\n",
       "      <td>0</td>\n",
       "      <td>1</td>\n",
       "      <td>0</td>\n",
       "      <td>1</td>\n",
       "      <td>0</td>\n",
       "      <td>1</td>\n",
       "      <td>0</td>\n",
       "      <td>0</td>\n",
       "    </tr>\n",
       "    <tr>\n",
       "      <th>629</th>\n",
       "      <td>0.230769</td>\n",
       "      <td>-0.10</td>\n",
       "      <td>0.898876</td>\n",
       "      <td>0</td>\n",
       "      <td>0.556291</td>\n",
       "      <td>-0.400000</td>\n",
       "      <td>1</td>\n",
       "      <td>0</td>\n",
       "      <td>0</td>\n",
       "      <td>1</td>\n",
       "      <td>0</td>\n",
       "      <td>0</td>\n",
       "      <td>1</td>\n",
       "      <td>0</td>\n",
       "      <td>0</td>\n",
       "      <td>1</td>\n",
       "      <td>0</td>\n",
       "      <td>1</td>\n",
       "      <td>0</td>\n",
       "      <td>0</td>\n",
       "    </tr>\n",
       "    <tr>\n",
       "      <th>559</th>\n",
       "      <td>0.769231</td>\n",
       "      <td>0.20</td>\n",
       "      <td>0.561798</td>\n",
       "      <td>0</td>\n",
       "      <td>-0.953642</td>\n",
       "      <td>2.266667</td>\n",
       "      <td>0</td>\n",
       "      <td>1</td>\n",
       "      <td>0</td>\n",
       "      <td>1</td>\n",
       "      <td>0</td>\n",
       "      <td>0</td>\n",
       "      <td>0</td>\n",
       "      <td>1</td>\n",
       "      <td>0</td>\n",
       "      <td>0</td>\n",
       "      <td>1</td>\n",
       "      <td>0</td>\n",
       "      <td>1</td>\n",
       "      <td>0</td>\n",
       "    </tr>\n",
       "    <tr>\n",
       "      <th>684</th>\n",
       "      <td>-0.538462</td>\n",
       "      <td>-1.10</td>\n",
       "      <td>0.224719</td>\n",
       "      <td>0</td>\n",
       "      <td>0.370861</td>\n",
       "      <td>-0.400000</td>\n",
       "      <td>0</td>\n",
       "      <td>1</td>\n",
       "      <td>0</td>\n",
       "      <td>0</td>\n",
       "      <td>0</td>\n",
       "      <td>1</td>\n",
       "      <td>0</td>\n",
       "      <td>1</td>\n",
       "      <td>0</td>\n",
       "      <td>1</td>\n",
       "      <td>0</td>\n",
       "      <td>1</td>\n",
       "      <td>0</td>\n",
       "      <td>0</td>\n",
       "    </tr>\n",
       "  </tbody>\n",
       "</table>\n",
       "<p>642 rows × 20 columns</p>\n",
       "</div>"
      ],
      "text/plain": [
       "          age  pression_arterielle_repos  cholesterol  glycemie_a_jeun  \\\n",
       "76  -1.692308                      -0.60     3.438202                0   \n",
       "48  -1.384615                      -0.90     1.314607                0   \n",
       "304 -0.230769                      -1.75    -2.505618                1   \n",
       "263  0.384615                       0.00    -1.089888                0   \n",
       "744  0.461538                      -0.65     0.078652                1   \n",
       "..        ...                        ...          ...              ...   \n",
       "835  0.000000                      -1.00     0.179775                0   \n",
       "192 -0.461538                       0.00     0.247191                0   \n",
       "629  0.230769                      -0.10     0.898876                0   \n",
       "559  0.769231                       0.20     0.561798                0   \n",
       "684 -0.538462                      -1.10     0.224719                0   \n",
       "\n",
       "     frequence_cardiaque_max  depression  sexe_femme  sexe_homme  \\\n",
       "76                 -0.211921   -0.400000           0           1   \n",
       "48                  1.218543    0.266667           0           1   \n",
       "304                -0.317881    1.066667           0           1   \n",
       "263                -0.344371   -0.400000           0           1   \n",
       "744                 0.582781    0.533333           0           1   \n",
       "..                       ...         ...         ...         ...   \n",
       "835                -0.317881    1.466667           0           1   \n",
       "192                 0.582781   -0.400000           0           1   \n",
       "629                 0.556291   -0.400000           1           0   \n",
       "559                -0.953642    2.266667           0           1   \n",
       "684                 0.370861   -0.400000           0           1   \n",
       "\n",
       "     type_douleur_thoracique_AA  type_douleur_thoracique_ASY  \\\n",
       "76                            0                            1   \n",
       "48                            0                            0   \n",
       "304                           0                            1   \n",
       "263                           0                            1   \n",
       "744                           0                            1   \n",
       "..                          ...                          ...   \n",
       "835                           0                            1   \n",
       "192                           1                            0   \n",
       "629                           0                            1   \n",
       "559                           0                            1   \n",
       "684                           0                            0   \n",
       "\n",
       "     type_douleur_thoracique_AT  type_douleur_thoracique_DNA  \\\n",
       "76                            0                            0   \n",
       "48                            0                            1   \n",
       "304                           0                            0   \n",
       "263                           0                            0   \n",
       "744                           0                            0   \n",
       "..                          ...                          ...   \n",
       "835                           0                            0   \n",
       "192                           0                            0   \n",
       "629                           0                            0   \n",
       "559                           0                            0   \n",
       "684                           0                            1   \n",
       "\n",
       "     electrocardiogramme_repos_LVH  electrocardiogramme_repos_Normal  \\\n",
       "76                               0                                 1   \n",
       "48                               0                                 1   \n",
       "304                              0                                 1   \n",
       "263                              0                                 1   \n",
       "744                              0                                 1   \n",
       "..                             ...                               ...   \n",
       "835                              0                                 1   \n",
       "192                              0                                 1   \n",
       "629                              1                                 0   \n",
       "559                              0                                 1   \n",
       "684                              0                                 1   \n",
       "\n",
       "     electrocardiogramme_repos_ST  angine_Non  angine_Oui  pente_Ascendant  \\\n",
       "76                              0           1           0                0   \n",
       "48                              0           1           0                0   \n",
       "304                             0           1           0                0   \n",
       "263                             0           1           0                0   \n",
       "744                             0           0           1                1   \n",
       "..                            ...         ...         ...              ...   \n",
       "835                             0           0           1                0   \n",
       "192                             0           1           0                1   \n",
       "629                             0           1           0                1   \n",
       "559                             0           0           1                0   \n",
       "684                             0           1           0                1   \n",
       "\n",
       "     pente_Descendant  pente_Plat  \n",
       "76                  0           1  \n",
       "48                  0           1  \n",
       "304                 0           1  \n",
       "263                 0           1  \n",
       "744                 0           0  \n",
       "..                ...         ...  \n",
       "835                 0           1  \n",
       "192                 0           0  \n",
       "629                 0           0  \n",
       "559                 1           0  \n",
       "684                 0           0  \n",
       "\n",
       "[642 rows x 20 columns]"
      ]
     },
     "execution_count": 69,
     "metadata": {},
     "output_type": "execute_result"
    }
   ],
   "source": [
    "X_train_robust"
   ]
  },
  {
   "cell_type": "code",
   "execution_count": 84,
   "metadata": {},
   "outputs": [
    {
     "data": {
      "text/plain": [
       "1    163\n",
       "0    113\n",
       "Name: coeur, dtype: int64"
      ]
     },
     "execution_count": 84,
     "metadata": {},
     "output_type": "execute_result"
    }
   ],
   "source": [
    "y_test.value_counts()"
   ]
  },
  {
   "cell_type": "code",
   "execution_count": 72,
   "metadata": {},
   "outputs": [
    {
     "name": "stdout",
     "output_type": "stream",
     "text": [
      "[[ 89  24]\n",
      " [ 14 149]]\n"
     ]
    },
    {
     "data": {
      "image/png": "[encoded data removed]",
      "text/plain": [
       "<Figure size 864x576 with 1 Axes>"
      ]
     },
     "metadata": {
      "needs_background": "light"
     },
     "output_type": "display_data"
    }
   ],
   "source": [
    "evaluation(svm)"
   ]
  },
  {
   "cell_type": "code",
   "execution_count": 73,
   "metadata": {},
   "outputs": [
    {
     "name": "stdout",
     "output_type": "stream",
     "text": [
      "[[ 77  36]\n",
      " [  9 154]]\n"
     ]
    },
    {
     "data": {
      "image/png": "[encoded data removed]",
      "text/plain": [
       "<Figure size 864x576 with 1 Axes>"
      ]
     },
     "metadata": {
      "needs_background": "light"
     },
     "output_type": "display_data"
    }
   ],
   "source": [
    "evaluation(sgd)"
   ]
  },
  {
   "cell_type": "code",
   "execution_count": 74,
   "metadata": {},
   "outputs": [
    {
     "name": "stdout",
     "output_type": "stream",
     "text": [
      "[[ 86  27]\n",
      " [ 19 144]]\n"
     ]
    },
    {
     "data": {
      "image/png": "[encoded data removed]",
      "text/plain": [
       "<Figure size 864x576 with 1 Axes>"
      ]
     },
     "metadata": {
      "needs_background": "light"
     },
     "output_type": "display_data"
    }
   ],
   "source": [
    "evaluation(Log)"
   ]
  },
  {
   "cell_type": "markdown",
   "metadata": {},
   "source": [
    "- Il faut beaucoup plus de données pour avoir un bon modèle au niveau du svm.\n",
    "- Le modèle retenu est celui de la regression logistique"
   ]
  },
  {
   "cell_type": "markdown",
   "metadata": {},
   "source": [
    "## Optimisation"
   ]
  },
  {
   "cell_type": "code",
   "execution_count": 89,
   "metadata": {},
   "outputs": [
    {
     "data": {
      "text/plain": [
       "GridSearchCV(cv=5, estimator=LogisticRegression(random_state=0),\n",
       "             param_grid={'C': [1, 2, 10],\n",
       "                         'class_weight': [[0.5, 0.5], [0.25, 0.75], [0.4, 0.6],\n",
       "                                          [0.6, 0.4]]})"
      ]
     },
     "execution_count": 89,
     "metadata": {},
     "output_type": "execute_result"
    }
   ],
   "source": [
    "parameters = {'C': [1, 2, 10],\n",
    "              'class_weight': [[0.5, 0.5], [0.25, 0.75], [0.40, 0.60], [0.60, 0.40]]\n",
    "             }\n",
    "\n",
    "grid_search = GridSearchCV(estimator=Log, param_grid=parameters, cv=5)\n",
    "grid_search.fit(X_train_robust, y_train)"
   ]
  },
  {
   "cell_type": "code",
   "execution_count": 90,
   "metadata": {},
   "outputs": [
    {
     "name": "stdout",
     "output_type": "stream",
     "text": [
      "Le meilleur score est:  0.8707364341085271\n",
      "La combinaison de paramètres ayant conduit à ce score est:  {'C': 10, 'class_weight': [0.5, 0.5]}\n"
     ]
    }
   ],
   "source": [
    "print(\"Le meilleur score est: \", grid_search.best_score_)\n",
    "print(\"La combinaison de paramètres ayant conduit à ce score est: \", grid_search.best_params_)"
   ]
  },
  {
   "cell_type": "code",
   "execution_count": 99,
   "metadata": {},
   "outputs": [],
   "source": [
    "best_clf = grid_search.best_estimator_\n",
    "\n",
    "y_pred = best_clf.predict(X_test_robust)"
   ]
  },
  {
   "cell_type": "code",
   "execution_count": 101,
   "metadata": {},
   "outputs": [
    {
     "name": "stdout",
     "output_type": "stream",
     "text": [
      "+-----------+---------+\n",
      "| Métriques | Valeurs |\n",
      "+-----------+---------+\n",
      "|   Recall  |  88.34  |\n",
      "| Precision |  84.21  |\n",
      "|  Accuracy |  83.33  |\n",
      "|     f1    |  86.23  |\n",
      "+-----------+---------+\n"
     ]
    }
   ],
   "source": [
    "metric_table = PrettyTable()\n",
    "metric_table.field_names = [\"Métriques\", \"Valeurs\"]\n",
    "metric_table.add_row([\"Recall\", round(recall_score(y_test, y_pred) * 100, 2)])\n",
    "metric_table.add_row([\"Precision\", round(precision_score(y_test, y_pred) * 100, 2)])\n",
    "metric_table.add_row([\"Accuracy\", round(accuracy_score(y_test, y_pred) * 100, 2)])\n",
    "metric_table.add_row([\"f1\", round(f1_score(y_test, y_pred) * 100, 2)])\n",
    "print(metric_table)"
   ]
  },
  {
   "cell_type": "code",
   "execution_count": null,
   "metadata": {},
   "outputs": [],
   "source": []
  },
  {
   "cell_type": "markdown",
   "metadata": {},
   "source": [
    "#### Quatrième approche"
   ]
  },
  {
   "cell_type": "markdown",
   "metadata": {},
   "source": [
    "- Encodage\n",
    "- Normalisation\n",
    "- Traitement de données abérrantes"
   ]
  },
  {
   "cell_type": "code",
   "execution_count": 86,
   "metadata": {
    "scrolled": false
   },
   "outputs": [
    {
     "data": {
      "image/png": "[encoded data removed]",
      "text/plain": [
       "<Figure size 864x720 with 1 Axes>"
      ]
     },
     "metadata": {
      "needs_background": "light"
     },
     "output_type": "display_data"
    }
   ],
   "source": [
    "plt.figure(figsize=(12, 10))\n",
    "sns.boxplot(data=trainset[[col for col in X_train.select_dtypes(exclude=object) if col not in 'glycemie_a_jeun']]);"
   ]
  },
  {
   "cell_type": "code",
   "execution_count": 57,
   "metadata": {},
   "outputs": [],
   "source": [
    "df1 = df.copy()"
   ]
  },
  {
   "cell_type": "code",
   "execution_count": 59,
   "metadata": {},
   "outputs": [],
   "source": [
    "inqt = 1.5 * (np.percentile(df1[\"cholesterol\"],75) - np.percentile(df1[\"cholesterol\"],75))\n",
    "m_sup = inqt + np.percentile(df1[\"cholesterol\"],75)\n",
    "m_inf = np.percentile(df1[\"cholesterol\"],25) - inqt\n",
    "df_trans = df1.drop(df1[df1[\"cholesterol\"]<m_inf].index)\n",
    "dfx_trans = df_trans.drop(df1[df1[\"cholesterol\"]>m_sup].index)"
   ]
  },
  {
   "cell_type": "code",
   "execution_count": 60,
   "metadata": {},
   "outputs": [
    {
     "data": {
      "text/html": [
       "<div>\n",
       "<style scoped>\n",
       "    .dataframe tbody tr th:only-of-type {\n",
       "        vertical-align: middle;\n",
       "    }\n",
       "\n",
       "    .dataframe tbody tr th {\n",
       "        vertical-align: top;\n",
       "    }\n",
       "\n",
       "    .dataframe thead th {\n",
       "        text-align: right;\n",
       "    }\n",
       "</style>\n",
       "<table border=\"1\" class=\"dataframe\">\n",
       "  <thead>\n",
       "    <tr style=\"text-align: right;\">\n",
       "      <th></th>\n",
       "      <th>age</th>\n",
       "      <th>sexe</th>\n",
       "      <th>type_douleur_thoracique</th>\n",
       "      <th>pression_arterielle_repos</th>\n",
       "      <th>cholesterol</th>\n",
       "      <th>glycemie_a_jeun</th>\n",
       "      <th>electrocardiogramme_repos</th>\n",
       "      <th>frequence_cardiaque_max</th>\n",
       "      <th>angine</th>\n",
       "      <th>depression</th>\n",
       "      <th>pente</th>\n",
       "      <th>coeur</th>\n",
       "    </tr>\n",
       "  </thead>\n",
       "  <tbody>\n",
       "    <tr>\n",
       "      <th>1</th>\n",
       "      <td>49</td>\n",
       "      <td>femme</td>\n",
       "      <td>DNA</td>\n",
       "      <td>160</td>\n",
       "      <td>180</td>\n",
       "      <td>0</td>\n",
       "      <td>Normal</td>\n",
       "      <td>156</td>\n",
       "      <td>Non</td>\n",
       "      <td>1.0</td>\n",
       "      <td>Plat</td>\n",
       "      <td>1</td>\n",
       "    </tr>\n",
       "    <tr>\n",
       "      <th>3</th>\n",
       "      <td>48</td>\n",
       "      <td>femme</td>\n",
       "      <td>ASY</td>\n",
       "      <td>138</td>\n",
       "      <td>214</td>\n",
       "      <td>0</td>\n",
       "      <td>Normal</td>\n",
       "      <td>108</td>\n",
       "      <td>Oui</td>\n",
       "      <td>1.5</td>\n",
       "      <td>Plat</td>\n",
       "      <td>1</td>\n",
       "    </tr>\n",
       "    <tr>\n",
       "      <th>4</th>\n",
       "      <td>54</td>\n",
       "      <td>homme</td>\n",
       "      <td>DNA</td>\n",
       "      <td>150</td>\n",
       "      <td>195</td>\n",
       "      <td>0</td>\n",
       "      <td>Normal</td>\n",
       "      <td>122</td>\n",
       "      <td>Non</td>\n",
       "      <td>0.0</td>\n",
       "      <td>Ascendant</td>\n",
       "      <td>0</td>\n",
       "    </tr>\n",
       "    <tr>\n",
       "      <th>6</th>\n",
       "      <td>45</td>\n",
       "      <td>femme</td>\n",
       "      <td>AA</td>\n",
       "      <td>130</td>\n",
       "      <td>237</td>\n",
       "      <td>0</td>\n",
       "      <td>Normal</td>\n",
       "      <td>170</td>\n",
       "      <td>Non</td>\n",
       "      <td>0.0</td>\n",
       "      <td>Ascendant</td>\n",
       "      <td>0</td>\n",
       "    </tr>\n",
       "    <tr>\n",
       "      <th>7</th>\n",
       "      <td>54</td>\n",
       "      <td>homme</td>\n",
       "      <td>AA</td>\n",
       "      <td>110</td>\n",
       "      <td>208</td>\n",
       "      <td>0</td>\n",
       "      <td>Normal</td>\n",
       "      <td>142</td>\n",
       "      <td>Non</td>\n",
       "      <td>0.0</td>\n",
       "      <td>Ascendant</td>\n",
       "      <td>0</td>\n",
       "    </tr>\n",
       "    <tr>\n",
       "      <th>...</th>\n",
       "      <td>...</td>\n",
       "      <td>...</td>\n",
       "      <td>...</td>\n",
       "      <td>...</td>\n",
       "      <td>...</td>\n",
       "      <td>...</td>\n",
       "      <td>...</td>\n",
       "      <td>...</td>\n",
       "      <td>...</td>\n",
       "      <td>...</td>\n",
       "      <td>...</td>\n",
       "      <td>...</td>\n",
       "    </tr>\n",
       "    <tr>\n",
       "      <th>912</th>\n",
       "      <td>57</td>\n",
       "      <td>femme</td>\n",
       "      <td>ASY</td>\n",
       "      <td>140</td>\n",
       "      <td>241</td>\n",
       "      <td>0</td>\n",
       "      <td>Normal</td>\n",
       "      <td>123</td>\n",
       "      <td>Oui</td>\n",
       "      <td>0.2</td>\n",
       "      <td>Plat</td>\n",
       "      <td>1</td>\n",
       "    </tr>\n",
       "    <tr>\n",
       "      <th>913</th>\n",
       "      <td>45</td>\n",
       "      <td>homme</td>\n",
       "      <td>AT</td>\n",
       "      <td>110</td>\n",
       "      <td>264</td>\n",
       "      <td>0</td>\n",
       "      <td>Normal</td>\n",
       "      <td>132</td>\n",
       "      <td>Non</td>\n",
       "      <td>1.2</td>\n",
       "      <td>Plat</td>\n",
       "      <td>1</td>\n",
       "    </tr>\n",
       "    <tr>\n",
       "      <th>914</th>\n",
       "      <td>68</td>\n",
       "      <td>homme</td>\n",
       "      <td>ASY</td>\n",
       "      <td>144</td>\n",
       "      <td>193</td>\n",
       "      <td>1</td>\n",
       "      <td>Normal</td>\n",
       "      <td>141</td>\n",
       "      <td>Non</td>\n",
       "      <td>3.4</td>\n",
       "      <td>Plat</td>\n",
       "      <td>1</td>\n",
       "    </tr>\n",
       "    <tr>\n",
       "      <th>916</th>\n",
       "      <td>57</td>\n",
       "      <td>femme</td>\n",
       "      <td>AA</td>\n",
       "      <td>130</td>\n",
       "      <td>236</td>\n",
       "      <td>0</td>\n",
       "      <td>LVH</td>\n",
       "      <td>174</td>\n",
       "      <td>Non</td>\n",
       "      <td>0.0</td>\n",
       "      <td>Plat</td>\n",
       "      <td>1</td>\n",
       "    </tr>\n",
       "    <tr>\n",
       "      <th>917</th>\n",
       "      <td>38</td>\n",
       "      <td>homme</td>\n",
       "      <td>DNA</td>\n",
       "      <td>138</td>\n",
       "      <td>175</td>\n",
       "      <td>0</td>\n",
       "      <td>Normal</td>\n",
       "      <td>173</td>\n",
       "      <td>Non</td>\n",
       "      <td>0.0</td>\n",
       "      <td>Ascendant</td>\n",
       "      <td>0</td>\n",
       "    </tr>\n",
       "  </tbody>\n",
       "</table>\n",
       "<p>461 rows × 12 columns</p>\n",
       "</div>"
      ],
      "text/plain": [
       "     age   sexe type_douleur_thoracique  pression_arterielle_repos  \\\n",
       "1     49  femme                     DNA                        160   \n",
       "3     48  femme                     ASY                        138   \n",
       "4     54  homme                     DNA                        150   \n",
       "6     45  femme                      AA                        130   \n",
       "7     54  homme                      AA                        110   \n",
       "..   ...    ...                     ...                        ...   \n",
       "912   57  femme                     ASY                        140   \n",
       "913   45  homme                      AT                        110   \n",
       "914   68  homme                     ASY                        144   \n",
       "916   57  femme                      AA                        130   \n",
       "917   38  homme                     DNA                        138   \n",
       "\n",
       "     cholesterol  glycemie_a_jeun electrocardiogramme_repos  \\\n",
       "1            180                0                    Normal   \n",
       "3            214                0                    Normal   \n",
       "4            195                0                    Normal   \n",
       "6            237                0                    Normal   \n",
       "7            208                0                    Normal   \n",
       "..           ...              ...                       ...   \n",
       "912          241                0                    Normal   \n",
       "913          264                0                    Normal   \n",
       "914          193                1                    Normal   \n",
       "916          236                0                       LVH   \n",
       "917          175                0                    Normal   \n",
       "\n",
       "     frequence_cardiaque_max angine  depression      pente  coeur  \n",
       "1                        156    Non         1.0       Plat      1  \n",
       "3                        108    Oui         1.5       Plat      1  \n",
       "4                        122    Non         0.0  Ascendant      0  \n",
       "6                        170    Non         0.0  Ascendant      0  \n",
       "7                        142    Non         0.0  Ascendant      0  \n",
       "..                       ...    ...         ...        ...    ...  \n",
       "912                      123    Oui         0.2       Plat      1  \n",
       "913                      132    Non         1.2       Plat      1  \n",
       "914                      141    Non         3.4       Plat      1  \n",
       "916                      174    Non         0.0       Plat      1  \n",
       "917                      173    Non         0.0  Ascendant      0  \n",
       "\n",
       "[461 rows x 12 columns]"
      ]
     },
     "execution_count": 60,
     "metadata": {},
     "output_type": "execute_result"
    }
   ],
   "source": [
    "dfx_trans"
   ]
  },
  {
   "cell_type": "code",
   "execution_count": null,
   "metadata": {},
   "outputs": [],
   "source": [
    "X_train, y_train, X_test, y_test = "
   ]
  }
 ],
 "metadata": {
  "kernelspec": {
   "display_name": "Python 3",
   "language": "python",
   "name": "python3"
  },
  "language_info": {
   "codemirror_mode": {
    "name": "ipython",
    "version": 3
   },
   "file_extension": ".py",
   "mimetype": "text/x-python",
   "name": "python",
   "nbconvert_exporter": "python",
   "pygments_lexer": "ipython3",
   "version": "3.8.3"
  }
 },
 "nbformat": 4,
 "nbformat_minor": 4
}
